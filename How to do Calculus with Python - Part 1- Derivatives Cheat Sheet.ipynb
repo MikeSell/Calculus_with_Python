{
 "cells": [
  {
   "cell_type": "markdown",
   "metadata": {},
   "source": [
    "# How to do Calculus with Python  \n",
    "## Part 1 - Derivatives Cheat Sheet"
   ]
  },
  {
   "cell_type": "markdown",
   "metadata": {},
   "source": [
    "This article is really a precursor to cool things you can do with calculus such as the persuit curve which is used in air-to-air missiles, and rocket launch equations.\n",
    "\n",
    "Let's revisit some calculus topics you most likely haven't touched on in a while and use Python to take a refresher, and go over common derivatives and rules used."
   ]
  },
  {
   "cell_type": "markdown",
   "metadata": {},
   "source": [
    "![](precalc1.jpg)\n",
    "\n",
    "This is intended to be a calculus tutorial, but you won't use an online calculator such as Wolfram-Alpha, which requires an API. Also useful if you ever want to write your own code, or just do painless calculations. This is also a great way to check that your calculations done by hand are accurate. I will go over through differentiation rules in the easiest way possible, providing examples which you can execute using python. \n",
    "\n",
    "The areas covered in this how to install SymPy, and go through the following:\n",
    "1. Power Rule, $x^n$\n",
    "1. Product Rule\n",
    "1. Quotient Rule\n",
    "1. Chain Rule\n",
    "1. Exponential, $e^x$\n",
    "1. Partial Derivatives\n"
   ]
  },
  {
   "cell_type": "markdown",
   "metadata": {},
   "source": [
    "I will use Lagrange's derivative notation (such as $f(x), f'(x)$, and so on) to express formulae as it is the easiest notation to understand whilst you code along with python. Whilst it is more common to use the Leibniz ($\\frac{d}{dx}$) notation, it didn't feel natural when running differential equations in Python."
   ]
  },
  {
   "cell_type": "markdown",
   "metadata": {},
   "source": [
    "# Using SymPy"
   ]
  },
  {
   "cell_type": "markdown",
   "metadata": {},
   "source": [
    "This post will use [SymPy](https://www.sympy.org/en/index.html), which is a Python library. It is also possible to use the SciPy library, but SymPy prints the output in an easy to read way, and is more useful in getting a grasp of differentiation and integration.\n",
    "\n",
    "To install it, open up the terminal and run the following command:\n",
    "```python\n",
    "pip install sympy\n",
    "```\n",
    "\n",
    "I would strongly recommend writing the python code in a new Jupyter Notebook, which comes with the [Anaconda](https://www.anaconda.com/) distribution."
   ]
  },
  {
   "cell_type": "markdown",
   "metadata": {},
   "source": [
    "# Differentiation Rules\n",
    "\n",
    "I will go through some differentiation rules first, as a quick refresher to some Calculus topics that you probably have forgotten a long time ago."
   ]
  },
  {
   "cell_type": "markdown",
   "metadata": {},
   "source": [
    "## Power Rule\n",
    "\n",
    "The power rule states:\n",
    "\n",
    "### $$f(x) = x^n \\rightarrow f'(x) = nx^{n-1}$$"
   ]
  },
  {
   "cell_type": "markdown",
   "metadata": {},
   "source": [
    "Which is self-explanatory if you have ever taken a calculus class.\n",
    "So let's take a simple example, and go through the steps by hand;\n",
    "\n",
    "$f(x) = x^3$\n",
    "\n",
    "$f'(x) = 3x^{3-1}$\n",
    "\n",
    "$f'(x) = 3x^2$\n",
    "\n",
    "This is a good, easy example to test out the SymPy library. To implement this in python, first import the library, and declare a variable that you will use within your functions. The snippet below shows how to declare a single variable function: "
   ]
  },
  {
   "cell_type": "code",
   "execution_count": 1,
   "metadata": {},
   "outputs": [],
   "source": [
    "import sympy as sp\n",
    "\n",
    "x = sp.Symbol('x')"
   ]
  },
  {
   "cell_type": "markdown",
   "metadata": {},
   "source": [
    "The final step is to get the derivation by running the code below:"
   ]
  },
  {
   "cell_type": "code",
   "execution_count": 2,
   "metadata": {},
   "outputs": [
    {
     "data": {
      "text/latex": [
       "$\\displaystyle 3 x^{2}$"
      ],
      "text/plain": [
       "3*x**2"
      ]
     },
     "execution_count": 2,
     "metadata": {},
     "output_type": "execute_result"
    }
   ],
   "source": [
    "sp.diff(x**3)"
   ]
  },
  {
   "cell_type": "markdown",
   "metadata": {},
   "source": [
    "You will notice that the output equation comes out in a nice print format. If you want to get the second order differential, $f''(x)$, you can simply include $x$ twice within the ``diff`` command:"
   ]
  },
  {
   "cell_type": "code",
   "execution_count": 3,
   "metadata": {},
   "outputs": [
    {
     "data": {
      "text/latex": [
       "$\\displaystyle 6 x$"
      ],
      "text/plain": [
       "6*x"
      ]
     },
     "execution_count": 3,
     "metadata": {},
     "output_type": "execute_result"
    }
   ],
   "source": [
    "sp.diff(x**3,x,x)"
   ]
  },
  {
   "cell_type": "markdown",
   "metadata": {},
   "source": [
    "Where $6x$ is the second order differential, or put in a hand-written way:\n",
    "\n",
    "$f''(x) = 6x$"
   ]
  },
  {
   "cell_type": "markdown",
   "metadata": {},
   "source": [
    "## Product Rule"
   ]
  },
  {
   "cell_type": "markdown",
   "metadata": {},
   "source": [
    "### $$F(x) = f(x)\\times g(x) \\rightarrow F'(x) = f(x)\\times g'(x) + g(x)\\times f'(x)$$\n",
    "\n",
    "Let's go through a quick example by hand:\n",
    "\n",
    "$F(x) = sin(x)\\times(2x^2 + 2)$\n",
    "\n",
    "$F'(x) = sin(x)\\times(4x) + (2x^2+2)\\times(cos(x))$\n",
    "\n",
    "$F'(x) = 4x sin(x)+(2x^2+2) cos(x)$"
   ]
  },
  {
   "cell_type": "markdown",
   "metadata": {},
   "source": [
    "So running this in python will give you the following:"
   ]
  },
  {
   "cell_type": "code",
   "execution_count": 4,
   "metadata": {},
   "outputs": [
    {
     "data": {
      "text/latex": [
       "$\\displaystyle 4 x \\sin{\\left(x \\right)} + \\left(2 x^{2} + 2\\right) \\cos{\\left(x \\right)}$"
      ],
      "text/plain": [
       "4*x*sin(x) + (2*x**2 + 2)*cos(x)"
      ]
     },
     "execution_count": 4,
     "metadata": {},
     "output_type": "execute_result"
    }
   ],
   "source": [
    "sp.diff(sp.sin(x)*(2*x**2+2))"
   ]
  },
  {
   "cell_type": "markdown",
   "metadata": {},
   "source": [
    "Have a go at calculating the following by hand and by code:\n",
    "\n",
    "$f(x) = xcos(x)$, and $f(x) = (1+x)tan(x)$"
   ]
  },
  {
   "cell_type": "markdown",
   "metadata": {},
   "source": [
    "## Quotient Rule"
   ]
  },
  {
   "cell_type": "markdown",
   "metadata": {},
   "source": [
    "The quotient rule helps allows us to efficiently find the derivative of $\\frac{f(x)}{g(x)}$, and is stated as follows:\n",
    "\n",
    "### $$F(x) = \\frac{f(x)}{g(x)} \\rightarrow F'(x) = \\frac{f'(x)\\times g(x) - f(x)\\times g'(x)}{[g(x)]^2}$$"
   ]
  },
  {
   "cell_type": "markdown",
   "metadata": {},
   "source": [
    "So, let's go through a quick example by hand:"
   ]
  },
  {
   "cell_type": "markdown",
   "metadata": {},
   "source": [
    "#### $F(x) = \\frac{sin(x)}{x}$ \n",
    "\n",
    "#### $F'(x) = \\frac{(cos(x))(x) - (sin(x))(1))}{x^2}$\n",
    "\n",
    "#### $F'(x) = \\frac{xcos(x) - sin(x)}{x^2}$\n",
    "\n",
    "#### $F'(x) = \\frac{cos(x)}{x} - \\frac{sin(x)}{x^2}$"
   ]
  },
  {
   "cell_type": "markdown",
   "metadata": {},
   "source": [
    "and this is what it looks like when we do this in Python:"
   ]
  },
  {
   "cell_type": "code",
   "execution_count": 5,
   "metadata": {},
   "outputs": [
    {
     "data": {
      "text/latex": [
       "$\\displaystyle \\frac{\\cos{\\left(x \\right)}}{x} - \\frac{\\sin{\\left(x \\right)}}{x^{2}}$"
      ],
      "text/plain": [
       "cos(x)/x - sin(x)/x**2"
      ]
     },
     "execution_count": 5,
     "metadata": {},
     "output_type": "execute_result"
    }
   ],
   "source": [
    "sp.diff((sp.sin(x))/x)"
   ]
  },
  {
   "cell_type": "markdown",
   "metadata": {},
   "source": [
    "Try this by hand, and then run it in python:\n",
    "\n",
    "$f(x) = \\frac{3x}{5-tanx}$\n",
    "\n",
    "The quotient rule is very similar to the product rule, except with changing the plu to a minus, and the extra step of dividing by the $g(x)^2$ step."
   ]
  },
  {
   "cell_type": "markdown",
   "metadata": {},
   "source": [
    "## Chain Rule"
   ]
  },
  {
   "cell_type": "markdown",
   "metadata": {},
   "source": [
    "As mentioned earlier, I have chosen to use Langrangian notation to go through these rules. The chain rule for some reason gets more over-complicated than it needs to be. The formula is shown below:"
   ]
  },
  {
   "cell_type": "markdown",
   "metadata": {},
   "source": [
    "### $$F(x)=f(g(x)) \\rightarrow  F'(x) = f'(g(x)) \\times g'(x)$$"
   ]
  },
  {
   "cell_type": "markdown",
   "metadata": {},
   "source": [
    "So let's go through an example by hand:\n",
    "\n",
    "$F(x) = (x^2+1)^7$\n",
    "\n",
    "The inner function, g(x) is $x^2+1$ which when differentiated is $2x$. The outer function is f(x) is (**stuff**)$^7$, which when differentiated goes to $7$(**stuff**)$^6$.\n",
    "\n",
    "So following this logic, and here is the hand calculation:\n",
    "\n",
    "$F(x) = (x^2+1)^7$\n",
    "\n",
    "$F'(x) = 7(x^2+1)^6 \\times 2x$\n",
    "\n",
    "$F'(x) = 14x(x^2+1)^6$\n",
    "\n",
    "Which is pretty straghtforward when using the chain rule formula. This is what this looks like when run in python"
   ]
  },
  {
   "cell_type": "code",
   "execution_count": 6,
   "metadata": {},
   "outputs": [
    {
     "data": {
      "text/latex": [
       "$\\displaystyle 14 x \\left(x^{2} + 1\\right)^{6}$"
      ],
      "text/plain": [
       "14*x*(x**2 + 1)**6"
      ]
     },
     "execution_count": 6,
     "metadata": {},
     "output_type": "execute_result"
    }
   ],
   "source": [
    "sp.diff((x**2+1)**7)"
   ]
  },
  {
   "cell_type": "markdown",
   "metadata": {},
   "source": [
    "And that is pretty much it. Try to calculate by hand the following examples if you want good practice:\n",
    "\n",
    "$f(x) = (3x^2-4x+5)^8$, and \n",
    "\n",
    "$f(x) = \\sqrt{x^2+1}$.\n",
    "\n",
    "For more indepth explanation of the chain rule, check Aaron Schlegel's post on the [Chain Rule](https://aaronschlegel.me/chain-rule-differentiation.html)."
   ]
  },
  {
   "cell_type": "markdown",
   "metadata": {},
   "source": [
    "## Exponential Derivatives"
   ]
  },
  {
   "cell_type": "markdown",
   "metadata": {},
   "source": [
    "### $f(x) = e^x \\rightarrow f'(x) = e^x$\n",
    "and, using the chain rule, while giving $e$ an exponent of $g(x)$,\n",
    "### $f(x) = e^{g(x)} \\rightarrow f'(x) = g'(x) \\times e^{g(x)}$"
   ]
  },
  {
   "cell_type": "markdown",
   "metadata": {},
   "source": [
    "Let's go through a quick example:\n",
    "\n",
    "$f(x) = e^{3x}$,\n",
    "\n",
    "$f'(x) = 3e^{3x}$\n",
    "\n",
    "and the code for that will look like:"
   ]
  },
  {
   "cell_type": "code",
   "execution_count": 7,
   "metadata": {},
   "outputs": [
    {
     "data": {
      "text/latex": [
       "$\\displaystyle 3 e^{3 x}$"
      ],
      "text/plain": [
       "3*exp(3*x)"
      ]
     },
     "execution_count": 7,
     "metadata": {},
     "output_type": "execute_result"
    }
   ],
   "source": [
    "sp.diff(sp.exp(3*x))"
   ]
  },
  {
   "cell_type": "markdown",
   "metadata": {},
   "source": [
    "This covers all the differentiaiton rules you would have memorised in your calculus class. With all that, let's look at something called Partial Derivatives:"
   ]
  },
  {
   "cell_type": "markdown",
   "metadata": {},
   "source": [
    "# What about Partial Derivatives?"
   ]
  },
  {
   "cell_type": "markdown",
   "metadata": {},
   "source": [
    "A partial differential equation (PDE) differs from the Ordinary Differential equations we have looked at so far, as PDEs contain multivariable functions. The difference being is that you take diervatives of one variable at a time.\n",
    "\n",
    "Let's start with a two variable function and find their partial derivatives:\n",
    "\n",
    "$f(x,y) = x^4y$\n",
    "\n",
    "$\\delta_x f(x^4y) = 4xy$\n",
    "\n",
    "$\\delta_y f(x^4y) = x^4$\n",
    "\n",
    "Now how do I do this in Python you might ask? The first step is to declare your variables $x$ and $y$ like so:"
   ]
  },
  {
   "cell_type": "code",
   "execution_count": 8,
   "metadata": {},
   "outputs": [],
   "source": [
    "x, y = sp.symbols('x y')\n",
    "\n",
    "f = x**4 * y"
   ]
  },
  {
   "cell_type": "markdown",
   "metadata": {},
   "source": [
    "In the above, I have assigned the function as a variable, so as not to rewrite this variable every time I take a derivative "
   ]
  },
  {
   "cell_type": "code",
   "execution_count": 9,
   "metadata": {},
   "outputs": [
    {
     "data": {
      "text/latex": [
       "$\\displaystyle 4 x^{3} y$"
      ],
      "text/plain": [
       "4*x**3*y"
      ]
     },
     "execution_count": 9,
     "metadata": {},
     "output_type": "execute_result"
    }
   ],
   "source": [
    "sp.diff(f, x)"
   ]
  },
  {
   "cell_type": "code",
   "execution_count": 10,
   "metadata": {},
   "outputs": [
    {
     "data": {
      "text/latex": [
       "$\\displaystyle x^{4}$"
      ],
      "text/plain": [
       "x**4"
      ]
     },
     "execution_count": 10,
     "metadata": {},
     "output_type": "execute_result"
    }
   ],
   "source": [
    "sp.diff(f, y)"
   ]
  },
  {
   "cell_type": "markdown",
   "metadata": {},
   "source": [
    "You can also take the derivatives with respect to many variables one after the other within the same line of code:"
   ]
  },
  {
   "cell_type": "code",
   "execution_count": 11,
   "metadata": {},
   "outputs": [
    {
     "data": {
      "text/latex": [
       "$\\displaystyle 4 x^{3}$"
      ],
      "text/plain": [
       "4*x**3"
      ]
     },
     "execution_count": 11,
     "metadata": {},
     "output_type": "execute_result"
    }
   ],
   "source": [
    "sp.diff(f,x,y)"
   ]
  },
  {
   "cell_type": "markdown",
   "metadata": {},
   "source": [
    "### Another example with 3 variables"
   ]
  },
  {
   "cell_type": "markdown",
   "metadata": {},
   "source": [
    "$f(x,y,z) = x^3yz^2$\n",
    "\n",
    "$\\delta_x f(x^3yz^2) = 3x^2 y z^2$\n",
    "\n",
    "$\\delta_y f(x^3yz^2) = x^3z^2$\n",
    "\n",
    "$\\delta_z f(x^3yz^2) = 2(x^3yz)$"
   ]
  },
  {
   "cell_type": "code",
   "execution_count": 12,
   "metadata": {},
   "outputs": [],
   "source": [
    "x, y, z = sp.symbols('x y z')\n",
    "\n",
    "f = x**3 * y * z**2"
   ]
  },
  {
   "cell_type": "markdown",
   "metadata": {},
   "source": [
    "The remaining part now is as before:"
   ]
  },
  {
   "cell_type": "code",
   "execution_count": 13,
   "metadata": {},
   "outputs": [
    {
     "data": {
      "text/latex": [
       "$\\displaystyle 3 x^{2} y z^{2}$"
      ],
      "text/plain": [
       "3*x**2*y*z**2"
      ]
     },
     "execution_count": 13,
     "metadata": {},
     "output_type": "execute_result"
    }
   ],
   "source": [
    "sp.diff(f, x)"
   ]
  },
  {
   "cell_type": "code",
   "execution_count": 14,
   "metadata": {},
   "outputs": [
    {
     "data": {
      "text/latex": [
       "$\\displaystyle x^{3} z^{2}$"
      ],
      "text/plain": [
       "x**3*z**2"
      ]
     },
     "execution_count": 14,
     "metadata": {},
     "output_type": "execute_result"
    }
   ],
   "source": [
    "sp.diff(f, y)"
   ]
  },
  {
   "cell_type": "code",
   "execution_count": 15,
   "metadata": {},
   "outputs": [
    {
     "data": {
      "text/latex": [
       "$\\displaystyle 2 x^{3} y z$"
      ],
      "text/plain": [
       "2*x**3*y*z"
      ]
     },
     "execution_count": 15,
     "metadata": {},
     "output_type": "execute_result"
    }
   ],
   "source": [
    "sp.diff(f, z)"
   ]
  },
  {
   "cell_type": "markdown",
   "metadata": {},
   "source": [
    "And that's pretty much it on the derivatives side. However, these aren't actual functions useful in Python code, this is more of a homework thing.\n",
    "\n",
    "## Actually putting this in Python Code!\n",
    "\n",
    "What is the point of calculating differential equations in my Python code if I can't plug in the numbers? SymPy gives us a function to do just that!\n",
    "\n",
    "This very handy function is called ```lambdify```, where you substitute numbers where you have placed symbols.\n",
    "\n",
    "Let's do a quick example:"
   ]
  },
  {
   "cell_type": "code",
   "execution_count": 16,
   "metadata": {},
   "outputs": [
    {
     "data": {
      "text/latex": [
       "$\\displaystyle 6 x^{2} + 4$"
      ],
      "text/plain": [
       "6*x**2 + 4"
      ]
     },
     "execution_count": 16,
     "metadata": {},
     "output_type": "execute_result"
    }
   ],
   "source": [
    "f = 2*x**3+4*x\n",
    "f_prime = sp.diff(f)\n",
    "f_prime"
   ]
  },
  {
   "cell_type": "markdown",
   "metadata": {},
   "source": [
    "So I have set up f_prime, but I want to substitute $x$ with the number 2. We now use our handy little function here: "
   ]
  },
  {
   "cell_type": "code",
   "execution_count": 17,
   "metadata": {},
   "outputs": [
    {
     "data": {
      "text/plain": [
       "28"
      ]
     },
     "execution_count": 17,
     "metadata": {},
     "output_type": "execute_result"
    }
   ],
   "source": [
    "f_prime = sp.lambdify(x, f_prime)\n",
    "f_prime(2)"
   ]
  },
  {
   "cell_type": "markdown",
   "metadata": {},
   "source": [
    "And there you have it. Let's do another example with multiple symbolic variables"
   ]
  },
  {
   "cell_type": "code",
   "execution_count": 18,
   "metadata": {},
   "outputs": [
    {
     "data": {
      "text/plain": [
       "18"
      ]
     },
     "execution_count": 18,
     "metadata": {},
     "output_type": "execute_result"
    }
   ],
   "source": [
    "f = x**3 * y * z**2\n",
    "\n",
    "F = sp.lambdify([x,y,z], f)\n",
    "\n",
    "F(1,2,3)"
   ]
  },
  {
   "cell_type": "markdown",
   "metadata": {},
   "source": [
    "And with this, you now have a python library for finding derivatives and turning them into functions.\n",
    "\n",
    "Have fun!"
   ]
  },
  {
   "cell_type": "markdown",
   "metadata": {},
   "source": [
    "## Future Articles\n",
    "\n"
   ]
  },
  {
   "cell_type": "markdown",
   "metadata": {},
   "source": [
    "Integrals deserve an article of their own, and will be the part 2, followed by Series Expansion and SymPy plots.\n",
    "\n",
    "After that, I will only do articles on the applications of calculus such as the persuit curve, rocket launch equations, orbital mechanics, or anything useful for Kerbal Space Program's kOS mod, which allows you to automate specific tasks. This is probably the easiest way to immediately apply calculus functions with Python."
   ]
  },
  {
   "cell_type": "markdown",
   "metadata": {},
   "source": [
    "## Referenced Websites"
   ]
  },
  {
   "cell_type": "markdown",
   "metadata": {},
   "source": [
    "I would recommend visiting these sites, especially **Taking Derivatives In Python** which goes through the same rules.\n",
    "\n",
    "1. [Taking Derivatives In Python](https://towardsdatascience.com/taking-derivatives-in-python-d6229ba72c64)\n",
    "\n",
    "1. [SymPy.org](https://www.sympy.org/en/index.html)\n",
    "\n",
    "1. [Calculating Derivatives: Problems and Solutions](https://www.matheno.com/calculus-1/calculating-derivatives-problems-solutions/)\n",
    "\n",
    "1. [Derivatives of\n",
    "Exponential Functions](https://themathpage.com/aCalc/exponential.htm#expon)"
   ]
  },
  {
   "cell_type": "markdown",
   "metadata": {},
   "source": [
    "## To Do"
   ]
  },
  {
   "cell_type": "markdown",
   "metadata": {},
   "source": [
    "1. Look into plotting Derivative functions - Probably needs it's own article?"
   ]
  }
 ],
 "metadata": {
  "kernelspec": {
   "display_name": "Python 3",
   "language": "python",
   "name": "python3"
  },
  "language_info": {
   "codemirror_mode": {
    "name": "ipython",
    "version": 3
   },
   "file_extension": ".py",
   "mimetype": "text/x-python",
   "name": "python",
   "nbconvert_exporter": "python",
   "pygments_lexer": "ipython3",
   "version": "3.7.3"
  }
 },
 "nbformat": 4,
 "nbformat_minor": 2
}
